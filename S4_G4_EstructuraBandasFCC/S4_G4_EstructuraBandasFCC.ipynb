{
 "cells": [
  {
   "cell_type": "markdown",
   "metadata": {},
   "source": [
    "<CENTER><h1>Estructura de bandas electrónicas para una red 3D para la estructura cristalina FCC</h1></CENTER>\n",
    "<div align=\"right\">Por:<br>Angie M. Sanchez<br>Jorge A. Quintero<br>Kevin A. González<br>2019</div>"
   ]
  },
  {
   "cell_type": "markdown",
   "metadata": {},
   "source": [
    "<br style=\"clear:both;\" />\n",
    "<div id=\"imagenes\" align=\"center\">\n",
    "<img src=\"https://raw.githubusercontent.com/davidalejandromiranda/estadoSolido/master/S4_G4_EstructuraBandasFCC/Assets/3DFCC.png\" style=\"width:35%\" />\n",
    "<h3>Primera zona de Brillouin de una red FCC</h3>\n",
    "<a href=\"https://youtu.be/4O8R89EQ-Sw\" target=\"_blank\"><b>Video explicativo</b></a>\n",
    "</div>"
   ]
  },
  {
   "cell_type": "code",
   "execution_count": 1,
   "metadata": {},
   "outputs": [],
   "source": [
    "#Importar librerías y definir algunas variables, vectores primitivos y puntos\n",
    "#estrella (de alta simetría)\n",
    "\n",
    "import numpy as np               \n",
    "import matplotlib.pyplot as plt\n",
    "from scipy import constants as cte\n",
    "a = 1\n",
    "pi = np.pi\n",
    "b  = 2*pi/a\n",
    "\n",
    "\n",
    "\n",
    "#escribimos los vectores en el espacio recìproco\n",
    "b1 = np.r_[-b, b, b]\n",
    "b2 = np.r_[b, -b, b]\n",
    "b3 = np.r_[b, b, -b]\n",
    "#Escribimos los puntos estrella correspondientes\n",
    "k_Gamma = np.r_[0  , 0  ,0]\n",
    "k_K     = np.r_[3*b/4, 3*b/4, 0]\n",
    "k_W     = np.r_[b, b/2, 0]       \n",
    "k_X     = np.r_[b, 0  ,0] \n",
    "k_U     = np.r_[b, b/4, b/4]\n",
    "k_L     = np.r_[b/2, b/2  ,b/2]"
   ]
  },
  {
   "cell_type": "markdown",
   "metadata": {},
   "source": [
    "Se define la red recíproca $\\vec{G}$, para todos los enteros $m_1$ y $m_2$,$m_3$ tales que dados los vectores primitivos de la red recíproca $\\vec{b}_1$ y $\\vec{b}_2$,$\\vec{b}_3$, $$\\vec{G} = m_1 \\vec{b}_1 + m_2 \\vec{b}_2 + m_3 \\vec{b}_3 $$\n",
    "\n",
    "Nótese que la energía $E_{\\vec{k}}$ es invariante ante cualquier transformación de traslación dada por $\\vec{G}$."
   ]
  },
  {
   "cell_type": "code",
   "execution_count": 2,
   "metadata": {},
   "outputs": [],
   "source": [
    "#Definios la constante de planck y la masa del electròn\n",
    "hbar = cte.hbar/cte.e # eV s\n",
    "m_e  = cte.m_e\n",
    "\n",
    "\n",
    "#Energy:\n",
    "#funciòn que recibe dos vectores k1 y k2, los coeficientes m1 y m2.\n",
    "#La salida son dos arreglos: el primero con los nùmeros entre 0 y la norma del vector unitario.\n",
    "#El segundo con los valores de la energìa para los valores de k(entre k1 y k2).\n",
    "\n",
    "def energy(k1, k2, m1 = 0, m2 = 0, m3 = 0, number_of_k_points = 1000): \n",
    "    k_12 = k2 - k1 #restamos los vectores\n",
    "    norm_k_12 = np.linalg.norm(k_12) # calcular la norma de la resta anterior\n",
    "    uk_12 = k_12 / norm_k_12 #calcular el vector normal\n",
    "    X = np.linspace(0, norm_k_12, number_of_k_points) #lista de nùmeros entre 0 y la norma de k1 y k2\n",
    "    K = [ k1 + x*uk_12 + m1*b1 + m2*b2 + m3*b3 for x in X ] # calcula los k en el camino entre k1 y k2\n",
    "    E = [ hbar**2 * np.dot(k,k) / (2*m_e) for k in K] #carlcula las energìas correspondientes\n",
    "    return X, np.array(E)\n",
    "\n",
    "# càlculo de la energìa de fermi\n",
    "efermi = 8*(hbar**2)*b**2/(2*m_e*2*np.pi)\n"
   ]
  },
  {
   "cell_type": "code",
   "execution_count": 3,
   "metadata": {
    "scrolled": false
   },
   "outputs": [
    {
     "output_type": "error",
     "ename": "NameError",
     "evalue": "name 'k_labels' is not defined",
     "traceback": [
      "\u001b[0;31m---------------------------------------------------------------------------\u001b[0m",
      "\u001b[0;31mNameError\u001b[0m                                 Traceback (most recent call last)",
      "\u001b[0;32m<ipython-input-3-217f9d4da10f>\u001b[0m in \u001b[0;36m<module>\u001b[0;34m\u001b[0m\n\u001b[1;32m     48\u001b[0m         \u001b[0mplt\u001b[0m\u001b[0;34m.\u001b[0m\u001b[0mplot\u001b[0m\u001b[0;34m(\u001b[0m\u001b[0mk\u001b[0m\u001b[0;34m,\u001b[0m \u001b[0mE\u001b[0m\u001b[0;34m,\u001b[0m \u001b[0;34m'k'\u001b[0m\u001b[0;34m,\u001b[0m \u001b[0mlw\u001b[0m \u001b[0;34m=\u001b[0m \u001b[0;36m1\u001b[0m\u001b[0;34m)\u001b[0m\u001b[0;31m#graficamos la energìa\u001b[0m\u001b[0;34m\u001b[0m\u001b[0;34m\u001b[0m\u001b[0m\n\u001b[1;32m     49\u001b[0m         \u001b[0mDk\u001b[0m \u001b[0;34m=\u001b[0m \u001b[0mk\u001b[0m\u001b[0;34m.\u001b[0m\u001b[0mmax\u001b[0m\u001b[0;34m(\u001b[0m\u001b[0;34m)\u001b[0m\u001b[0;34m\u001b[0m\u001b[0;34m\u001b[0m\u001b[0m\n\u001b[0;32m---> 50\u001b[0;31m         \u001b[0;32mif\u001b[0m \u001b[0mi\u001b[0m \u001b[0;34m<\u001b[0m \u001b[0mlen\u001b[0m\u001b[0;34m(\u001b[0m\u001b[0mk_labels\u001b[0m\u001b[0;34m)\u001b[0m\u001b[0;34m:\u001b[0m\u001b[0;34m\u001b[0m\u001b[0;34m\u001b[0m\u001b[0m\n\u001b[0m\u001b[1;32m     51\u001b[0m             \u001b[0mplt\u001b[0m\u001b[0;34m.\u001b[0m\u001b[0mtext\u001b[0m\u001b[0;34m(\u001b[0m\u001b[0mk\u001b[0m\u001b[0;34m.\u001b[0m\u001b[0mmin\u001b[0m\u001b[0;34m(\u001b[0m\u001b[0;34m)\u001b[0m\u001b[0;34m,\u001b[0m \u001b[0;36m1\u001b[0m\u001b[0;34m,\u001b[0m \u001b[0mk_labels\u001b[0m\u001b[0;34m[\u001b[0m\u001b[0mi\u001b[0m\u001b[0;34m]\u001b[0m\u001b[0;34m,\u001b[0m\u001b[0mfontsize\u001b[0m\u001b[0;34m=\u001b[0m\u001b[0;36m5\u001b[0m\u001b[0;34m)\u001b[0m \u001b[0;31m#graficamos los nombres de los puntos estrella\u001b[0m\u001b[0;34m\u001b[0m\u001b[0;34m\u001b[0m\u001b[0m\n\u001b[1;32m     52\u001b[0m             \u001b[0mplt\u001b[0m\u001b[0;34m.\u001b[0m\u001b[0mtext\u001b[0m\u001b[0;34m(\u001b[0m\u001b[0mk\u001b[0m\u001b[0;34m.\u001b[0m\u001b[0mmax\u001b[0m\u001b[0;34m(\u001b[0m\u001b[0;34m)\u001b[0m\u001b[0;34m,\u001b[0m \u001b[0;36m1\u001b[0m\u001b[0;34m,\u001b[0m \u001b[0mk_labels\u001b[0m\u001b[0;34m[\u001b[0m\u001b[0mi\u001b[0m\u001b[0;34m+\u001b[0m\u001b[0;36m1\u001b[0m\u001b[0;34m]\u001b[0m\u001b[0;34m,\u001b[0m\u001b[0mfontsize\u001b[0m\u001b[0;34m=\u001b[0m\u001b[0;36m5\u001b[0m\u001b[0;34m)\u001b[0m\u001b[0;34m\u001b[0m\u001b[0;34m\u001b[0m\u001b[0m\n",
      "\u001b[0;31mNameError\u001b[0m: name 'k_labels' is not defined"
     ]
    }
   ],
   "source": [
    "# Se definen las zonas de Brillouin, y los caminos que tomarán los \n",
    "#vectores al lo largo de los puntos estrellas.\n",
    "k_path = [k_L, k_K, k_U, k_W, k_Gamma, k_X, k_W, k_L, k_Gamma, k_K, k_U ,k_X]\n",
    "\n",
    "\n",
    "\n",
    "plt.figure(dpi = 200)\n",
    "BZ = { # valores de m1 y m2 para la BZ -> (m1, m2)\n",
    "    1: ( 0,  0, 0),\n",
    "    2: (-1,  0, 0),\n",
    "    3: ( 0, -1, 0),\n",
    "    4: (-1, -1, -1),\n",
    "    5: ( 0,  0, -1),\n",
    "    6: ( 1,  0, 0),\n",
    "    7: ( 0,  1, 0),\n",
    "    8: ( 0,  0, 1),\n",
    "    9: ( 1,  1, 1),\n",
    "    10:(-1,  1, 0),\n",
    "    11:( 1, -1, 0),\n",
    "    12:( 0, -1, 1),\n",
    "    13:( 0,  1, -1),\n",
    "    14:(-1,  0,  1),\n",
    "    15:( 1,  0, -1),\n",
    "    16:( 1,   1, 0),\n",
    "    17:( 0,   1, 1),\n",
    "    18:( 1,  0, 1),\n",
    "    19:( -1,  0, -1),\n",
    "    20:( -1,  -1, 0),\n",
    "    21:(0,  -1, -1),\n",
    "    22:( 1, -1, -1),\n",
    "    23:(-1, -1, 1),\n",
    "    24:( -1,  1, -1),\n",
    "    25:( -1,  1, 1),\n",
    "    26:( 1,  1, -1),\n",
    "    27:( 1, -1, 1)}\n",
    "\n",
    "#Calculo de las energìas de las bandas para cada camino de las zonas de Brillouin\n",
    "for zone in range(1, 28):\n",
    "    #recibimos cada coeficientes\n",
    "    m1 = BZ[zone][0]\n",
    "    m2 = BZ[zone][1]\n",
    "    m3 = BZ[zone][2]\n",
    "    Dk = 0\n",
    "    #Calculamos la energìa teniendo en cuenta el cambio del vector k dependiendo de cada zona\n",
    "    for i in range(len(k_path)-1):\n",
    "        k, E = energy(k_path[i], k_path[i+1], m1 = m1, m2 = m2, m3 = m3)\n",
    "        k += Dk\n",
    "        plt.plot(k, E, 'k', lw = 1)#graficamos la energìa\n",
    "        Dk = k.max()\n",
    "        if i < len(k_labels):\n",
    "            plt.text(k.min(), 1, k_labels[i],fontsize=5) #graficamos los nombres de los puntos estrella\n",
    "            plt.text(k.max(), 1, k_labels[i+1],fontsize=5)        \n",
    "            \n",
    "#arregamos los nombres a los ejes y la barra para indicar la energìa de fermi\n",
    "plt.axhline(efermi, color='g',ls=\"dotted\")\n",
    "texto1 = plt.text(1, efermi+0.5, r'$\\epsilon_f$', fontsize=8)\n",
    "plt.ylim(0, 30)\n",
    "plt.xlim(0, 50)\n",
    "plt.xlabel(r'$\\vec{k}$')\n",
    "plt.ylabel(r'$E_{\\vec{k}}$ [eV]')\n",
    "plt.grid()"
   ]
  },
  {
   "cell_type": "code",
   "execution_count": 4,
   "metadata": {},
   "outputs": [],
   "source": [
    "k_labels = ['$L$',r'$K$',r'$U$',r'$W$', r'$\\Gamma$', r'$X$',r'$W$', r'$L$', r'$\\Gamma$',r'$K$',r'$U$',r'$X$']"
   ]
  },
  {
   "cell_type": "code",
   "execution_count": 5,
   "metadata": {},
   "outputs": [
    {
     "output_type": "error",
     "ename": "NameError",
     "evalue": "name 'BZ_labels' is not defined",
     "traceback": [
      "\u001b[0;31m---------------------------------------------------------------------------\u001b[0m",
      "\u001b[0;31mNameError\u001b[0m                                 Traceback (most recent call last)",
      "\u001b[0;32m<ipython-input-5-a21867e97abf>\u001b[0m in \u001b[0;36m<module>\u001b[0;34m\u001b[0m\n\u001b[1;32m     50\u001b[0m             \u001b[0mplt\u001b[0m\u001b[0;34m.\u001b[0m\u001b[0mtext\u001b[0m\u001b[0;34m(\u001b[0m\u001b[0mk\u001b[0m\u001b[0;34m.\u001b[0m\u001b[0mmax\u001b[0m\u001b[0;34m(\u001b[0m\u001b[0;34m)\u001b[0m\u001b[0;34m,\u001b[0m \u001b[0;34m-\u001b[0m\u001b[0;36m6\u001b[0m\u001b[0;34m,\u001b[0m \u001b[0mk_labels\u001b[0m\u001b[0;34m[\u001b[0m\u001b[0mi\u001b[0m\u001b[0;34m+\u001b[0m\u001b[0;36m1\u001b[0m\u001b[0;34m]\u001b[0m\u001b[0;34m,\u001b[0m\u001b[0mfontsize\u001b[0m\u001b[0;34m=\u001b[0m\u001b[0;36m5\u001b[0m\u001b[0;34m)\u001b[0m\u001b[0;34m\u001b[0m\u001b[0;34m\u001b[0m\u001b[0m\n\u001b[1;32m     51\u001b[0m         \u001b[0mthis_zone\u001b[0m \u001b[0;34m=\u001b[0m \u001b[0;34m'%d'\u001b[0m \u001b[0;34m%\u001b[0m \u001b[0mzone\u001b[0m\u001b[0;34m\u001b[0m\u001b[0;34m\u001b[0m\u001b[0m\n\u001b[0;32m---> 52\u001b[0;31m         \u001b[0;32mif\u001b[0m \u001b[0;32mnot\u001b[0m \u001b[0mzi\u001b[0m \u001b[0;32min\u001b[0m \u001b[0mBZ_labels\u001b[0m\u001b[0;34m.\u001b[0m\u001b[0mkeys\u001b[0m\u001b[0;34m(\u001b[0m\u001b[0;34m)\u001b[0m\u001b[0;34m:\u001b[0m\u001b[0;34m\u001b[0m\u001b[0;34m\u001b[0m\u001b[0m\n\u001b[0m\u001b[1;32m     53\u001b[0m             \u001b[0mBZ_labels\u001b[0m\u001b[0;34m[\u001b[0m\u001b[0mzi\u001b[0m\u001b[0;34m]\u001b[0m \u001b[0;34m=\u001b[0m \u001b[0mthis_zone\u001b[0m\u001b[0;34m\u001b[0m\u001b[0;34m\u001b[0m\u001b[0m\n\u001b[1;32m     54\u001b[0m         \u001b[0;32mif\u001b[0m \u001b[0;32mnot\u001b[0m \u001b[0mthis_zone\u001b[0m \u001b[0;32min\u001b[0m \u001b[0mBZ_labels\u001b[0m\u001b[0;34m[\u001b[0m\u001b[0mzi\u001b[0m\u001b[0;34m]\u001b[0m\u001b[0;34m:\u001b[0m\u001b[0;34m\u001b[0m\u001b[0;34m\u001b[0m\u001b[0m\n",
      "\u001b[0;31mNameError\u001b[0m: name 'BZ_labels' is not defined"
     ]
    }
   ],
   "source": [
    "\n",
    "# Se definen las zonas de Brillouin, y los caminos que tomarán los \n",
    "#vectores al lo largo de los puntos estrellas.\n",
    "k_path = [k_L, k_K, k_U, k_W, k_Gamma, k_X, k_W, k_L, k_Gamma, k_K, k_U ,k_X]\n",
    "\n",
    "plt.figure(dpi = 200)\n",
    "BZ = { # valores de m1 y m2 para la BZ -> (m1, m2)\n",
    "    1: ( 0,  0, 0),\n",
    "    2: (-1,  0, 0),\n",
    "    3: ( 0, -1, 0),\n",
    "    4: (-1, -1, -1),\n",
    "    5: ( 0,  0, -1),\n",
    "    6: ( 1,  0, 0),\n",
    "    7: ( 0,  1, 0),\n",
    "    8: ( 0,  0, 1),\n",
    "    9: ( 1,  1, 1),\n",
    "    10:(-1,  1, 0),\n",
    "    11:( 1, -1, 0),\n",
    "    12:( 0, -1, 1),\n",
    "    13:( 0,  1, -1),\n",
    "    14:(-1,  0,  1),\n",
    "    15:( 1,  0, -1),\n",
    "    16:( 1,   1, 0),\n",
    "    17:( 0,   1, 1),\n",
    "    18:( 1,  0, 1),\n",
    "    19:( -1,  0, -1),\n",
    "    20:( -1,  -1, 0),\n",
    "    21:(0,  -1, -1),\n",
    "    22:( 1, -1, -1),\n",
    "    23:(-1, -1, 1),\n",
    "    24:( -1,  1, -1),\n",
    "    25:( -1,  1, 1),\n",
    "    26:( 1,  1, -1),\n",
    "    27:( 1, -1, 1)}\n",
    "\n",
    "for zone in range(1, 28):\n",
    "    m1 = BZ[zone][0]\n",
    "    m2 = BZ[zone][1]\n",
    "    m3 = BZ[zone][2]\n",
    "    Dk = 0\n",
    "    for i in range(len(k_path)-1):\n",
    "        k, E = energy(k_path[i], k_path[i+1], m1 = m1, m2 = m2, m3 = m3)\n",
    "        k += Dk\n",
    "        plt.plot(k, E, 'k', lw =0.5)\n",
    "        #plt.xticks(k, k_labels)\n",
    "        Dk = k.max()       \n",
    "        zi = (np.round(k.mean()), np.round(E[np.int16(E.size/2)]))#calcula la posiciòn media para indexar los caminos\n",
    "        if i < len(k_labels):\n",
    "            plt.text(k.min(), -6, k_labels[i],fontsize=5)\n",
    "            plt.text(k.max(), -6, k_labels[i+1],fontsize=5)\n",
    "        this_zone = '%d' % zone\n",
    "        if not zi in BZ_labels.keys():\n",
    "            BZ_labels[zi] = this_zone\n",
    "        if not this_zone in BZ_labels[zi]:\n",
    "            BZ_labels[zi] += ', %d' % zone\n",
    "        #-------------------------------------------------#\n",
    "#--- Agrega a la figura los identificadores de zonas BZ ---#\n",
    "for zi in BZ_labels.keys():\n",
    "    plt.text(zi[0], zi[1], BZ_labels[zi], fontsize=4.5)\n",
    "        \n",
    "\n",
    "#----------------------------------------------------------#\n",
    "#--- Agrega etiquetas a los ejes ---#\n",
    "#plt.ylim(-10, 50)\n",
    "#plt.xticks(xloc, xlabels)\n",
    "\n",
    "plt.xlabel(r'$\\vec{k}$')\n",
    "plt.ylabel(r'$E_{\\vec{k}}$ [eV]')\n",
    "plt.axhline(efermi, color='g',ls=\"dotted\")\n",
    "texto1 = plt.text(-2, efermi+0.8, r'$\\epsilon_f$', fontsize=8)\n",
    "plt.grid()\n"
   ]
  },
  {
   "cell_type": "code",
   "execution_count": null,
   "metadata": {},
   "outputs": [],
   "source": []
  },
  {
   "cell_type": "code",
   "execution_count": null,
   "metadata": {},
   "outputs": [],
   "source": []
  }
 ],
 "metadata": {
  "kernelspec": {
   "display_name": "Python 3",
   "language": "python",
   "name": "python3"
  },
  "language_info": {
   "codemirror_mode": {
    "name": "ipython",
    "version": 3
   },
   "file_extension": ".py",
   "mimetype": "text/x-python",
   "name": "python",
   "nbconvert_exporter": "python",
   "pygments_lexer": "ipython3",
   "version": "3.7.6-final"
  }
 },
 "nbformat": 4,
 "nbformat_minor": 2
}